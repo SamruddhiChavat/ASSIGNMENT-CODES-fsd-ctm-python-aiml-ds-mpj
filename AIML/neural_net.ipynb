{
 "cells": [
  {
   "cell_type": "code",
   "execution_count": null,
   "metadata": {},
   "outputs": [],
   "source": [
    "#Assignment 7 NEURAL NETWORKS \n",
    "import pandas as pd \n",
    "import numpy as np \n",
    "from matplotlib import pyplot as plt \n",
    "data = pd.read_csv('train.csv')\n",
    "data = np.array(data)\n",
    "m, n = data.shape\n",
    "np.random.shuffle(data)"
   ]
  },
  {
   "cell_type": "code",
   "execution_count": 2,
   "metadata": {},
   "outputs": [],
   "source": [
    "data_dev = data[0:1000].T\n",
    "Y_dev = data_dev[0]\n",
    "X_dev = data_dev[1:n]\n",
    "X_dev = X_dev / 255."
   ]
  },
  {
   "cell_type": "code",
   "execution_count": 3,
   "metadata": {},
   "outputs": [],
   "source": [
    "data_train = data[1000:m].T\n",
    "Y_train = data_train[0]\n",
    "X_train = data_train[1:n]\n",
    "X_train = X_train / 255.\n",
    "_,m_train = X_train.shape"
   ]
  },
  {
   "cell_type": "code",
   "execution_count": 4,
   "metadata": {},
   "outputs": [],
   "source": [
    "def init_params():\n",
    "    W1 = np.random.rand(10, 784) - 0.5\n",
    "    b1 = np.random.rand(10, 1) - 0.5\n",
    "    W2 = np.random.rand(10, 10) - 0.5\n",
    "    b2 = np.random.rand(10, 1) - 0.5\n",
    "    return W1, b1, W2, b2"
   ]
  },
  {
   "cell_type": "code",
   "execution_count": 5,
   "metadata": {},
   "outputs": [],
   "source": [
    "def ReLU(Z):\n",
    "    return np.maximum(Z, 0)"
   ]
  },
  {
   "cell_type": "code",
   "execution_count": 6,
   "metadata": {},
   "outputs": [],
   "source": [
    "def softmax(Z):\n",
    "    A = np.exp(Z) / sum(np.exp(Z))\n",
    "    return A"
   ]
  },
  {
   "cell_type": "code",
   "execution_count": 7,
   "metadata": {},
   "outputs": [],
   "source": [
    "def forward_prop(W1, b1, W2, b2, X):\n",
    "    Z1 = W1.dot(X) + b1\n",
    "    A1 = ReLU(Z1)\n",
    "    Z2 = W2.dot(A1) + b2\n",
    "    A2 = softmax(Z2)\n",
    "    return Z1, A1, Z2, A2"
   ]
  },
  {
   "cell_type": "code",
   "execution_count": 8,
   "metadata": {},
   "outputs": [],
   "source": [
    "\n",
    "def ReLU_deriv(Z):\n",
    "    return Z > 0"
   ]
  },
  {
   "cell_type": "code",
   "execution_count": 9,
   "metadata": {},
   "outputs": [],
   "source": [
    "def one_hot(Y):\n",
    "    one_hot_Y = np.zeros((Y.size, Y.max() + 1))\n",
    "    one_hot_Y[np.arange(Y.size), Y] = 1\n",
    "    one_hot_Y = one_hot_Y.T\n",
    "    return one_hot_Y"
   ]
  },
  {
   "cell_type": "code",
   "execution_count": 10,
   "metadata": {},
   "outputs": [],
   "source": [
    "def backward_prop(Z1, A1, Z2, A2, W1, W2, X, Y):\n",
    "    one_hot_Y = one_hot(Y)\n",
    "    dZ2 = A2 - one_hot_Y\n",
    "    dW2 = 1 / m * dZ2.dot(A1.T)\n",
    "    db2 = 1 / m * np.sum(dZ2)\n",
    "    dZ1 = W2.T.dot(dZ2) * ReLU_deriv(Z1)\n",
    "    dW1 = 1 / m * dZ1.dot(X.T)\n",
    "    db1 = 1 / m * np.sum(dZ1)\n",
    "    return dW1, db1, dW2, db2\n"
   ]
  },
  {
   "cell_type": "code",
   "execution_count": 11,
   "metadata": {},
   "outputs": [],
   "source": [
    "def update_params(W1, b1, W2, b2, dW1, db1, dW2, db2, alpha):\n",
    "    W1 = W1 - alpha * dW1\n",
    "    b1 = b1 - alpha * db1    \n",
    "    W2 = W2 - alpha * dW2  \n",
    "    b2 = b2 - alpha * db2    \n",
    "    return W1, b1, W2, b2"
   ]
  },
  {
   "cell_type": "code",
   "execution_count": 12,
   "metadata": {},
   "outputs": [],
   "source": [
    "def get_predictions(A2):\n",
    "    return np.argmax(A2, 0)"
   ]
  },
  {
   "cell_type": "code",
   "execution_count": 13,
   "metadata": {},
   "outputs": [],
   "source": [
    "\n",
    "def get_accuracy(predictions, Y):\n",
    "    print(predictions, Y)\n",
    "    return np.sum(predictions == Y) / Y.size"
   ]
  },
  {
   "cell_type": "code",
   "execution_count": 14,
   "metadata": {},
   "outputs": [
    {
     "name": "stdout",
     "output_type": "stream",
     "text": [
      "Iteration:  0\n",
      "[4 1 1 ... 1 6 4] [2 4 4 ... 9 0 9]\n",
      "0.1001219512195122\n",
      "Iteration:  10\n",
      "[8 0 9 ... 1 8 7] [2 4 4 ... 9 0 9]\n",
      "0.22726829268292684\n",
      "Iteration:  20\n",
      "[6 9 9 ... 1 0 7] [2 4 4 ... 9 0 9]\n",
      "0.31702439024390244\n",
      "Iteration:  30\n",
      "[6 9 9 ... 1 0 7] [2 4 4 ... 9 0 9]\n",
      "0.37785365853658537\n",
      "Iteration:  40\n",
      "[6 9 9 ... 1 0 7] [2 4 4 ... 9 0 9]\n",
      "0.429\n",
      "Iteration:  50\n",
      "[6 9 9 ... 9 0 7] [2 4 4 ... 9 0 9]\n",
      "0.4751463414634146\n",
      "Iteration:  60\n",
      "[6 9 9 ... 4 0 7] [2 4 4 ... 9 0 9]\n",
      "0.5128048780487805\n",
      "Iteration:  70\n",
      "[6 9 9 ... 4 0 7] [2 4 4 ... 9 0 9]\n",
      "0.547\n",
      "Iteration:  80\n",
      "[6 4 9 ... 4 2 7] [2 4 4 ... 9 0 9]\n",
      "0.5765365853658536\n",
      "Iteration:  90\n",
      "[6 4 9 ... 4 2 7] [2 4 4 ... 9 0 9]\n",
      "0.5999024390243902\n",
      "Iteration:  100\n",
      "[6 4 9 ... 4 2 7] [2 4 4 ... 9 0 9]\n",
      "0.6223170731707317\n",
      "Iteration:  110\n",
      "[0 4 9 ... 4 2 7] [2 4 4 ... 9 0 9]\n",
      "0.641609756097561\n",
      "Iteration:  120\n",
      "[2 4 9 ... 4 2 7] [2 4 4 ... 9 0 9]\n",
      "0.659219512195122\n",
      "Iteration:  130\n",
      "[2 4 4 ... 4 2 9] [2 4 4 ... 9 0 9]\n",
      "0.6751707317073171\n",
      "Iteration:  140\n",
      "[2 4 4 ... 4 0 9] [2 4 4 ... 9 0 9]\n",
      "0.6884146341463414\n",
      "Iteration:  150\n",
      "[2 4 4 ... 4 0 9] [2 4 4 ... 9 0 9]\n",
      "0.7008048780487804\n",
      "Iteration:  160\n",
      "[2 4 4 ... 4 0 9] [2 4 4 ... 9 0 9]\n",
      "0.7126097560975609\n",
      "Iteration:  170\n",
      "[2 4 4 ... 4 0 9] [2 4 4 ... 9 0 9]\n",
      "0.723390243902439\n",
      "Iteration:  180\n",
      "[2 4 4 ... 4 0 9] [2 4 4 ... 9 0 9]\n",
      "0.733390243902439\n",
      "Iteration:  190\n",
      "[2 4 4 ... 4 0 9] [2 4 4 ... 9 0 9]\n",
      "0.741780487804878\n",
      "Iteration:  200\n",
      "[2 4 4 ... 4 0 9] [2 4 4 ... 9 0 9]\n",
      "0.7493170731707317\n",
      "Iteration:  210\n",
      "[2 4 4 ... 4 0 9] [2 4 4 ... 9 0 9]\n",
      "0.7569756097560976\n",
      "Iteration:  220\n",
      "[2 4 4 ... 4 0 9] [2 4 4 ... 9 0 9]\n",
      "0.7634390243902439\n",
      "Iteration:  230\n",
      "[2 4 4 ... 4 0 9] [2 4 4 ... 9 0 9]\n",
      "0.7691219512195122\n",
      "Iteration:  240\n",
      "[2 4 4 ... 4 0 9] [2 4 4 ... 9 0 9]\n",
      "0.7757317073170732\n",
      "Iteration:  250\n",
      "[2 4 4 ... 4 0 9] [2 4 4 ... 9 0 9]\n",
      "0.7814390243902439\n",
      "Iteration:  260\n",
      "[2 4 4 ... 4 0 9] [2 4 4 ... 9 0 9]\n",
      "0.786609756097561\n",
      "Iteration:  270\n",
      "[2 4 4 ... 4 0 9] [2 4 4 ... 9 0 9]\n",
      "0.7922439024390244\n",
      "Iteration:  280\n",
      "[2 4 4 ... 4 0 9] [2 4 4 ... 9 0 9]\n",
      "0.7973658536585366\n",
      "Iteration:  290\n",
      "[2 4 4 ... 4 0 9] [2 4 4 ... 9 0 9]\n",
      "0.8022682926829269\n",
      "Iteration:  300\n",
      "[2 4 4 ... 4 0 9] [2 4 4 ... 9 0 9]\n",
      "0.8064146341463415\n",
      "Iteration:  310\n",
      "[2 4 4 ... 4 0 9] [2 4 4 ... 9 0 9]\n",
      "0.8104634146341464\n",
      "Iteration:  320\n",
      "[2 4 4 ... 4 0 9] [2 4 4 ... 9 0 9]\n",
      "0.814390243902439\n",
      "Iteration:  330\n",
      "[2 4 4 ... 4 0 9] [2 4 4 ... 9 0 9]\n",
      "0.8173170731707317\n",
      "Iteration:  340\n",
      "[2 4 4 ... 4 0 9] [2 4 4 ... 9 0 9]\n",
      "0.8206097560975609\n",
      "Iteration:  350\n",
      "[2 4 4 ... 4 0 9] [2 4 4 ... 9 0 9]\n",
      "0.8234634146341463\n",
      "Iteration:  360\n",
      "[2 4 4 ... 4 0 9] [2 4 4 ... 9 0 9]\n",
      "0.826170731707317\n",
      "Iteration:  370\n",
      "[2 4 4 ... 4 0 9] [2 4 4 ... 9 0 9]\n",
      "0.8288536585365853\n",
      "Iteration:  380\n",
      "[2 4 4 ... 4 0 9] [2 4 4 ... 9 0 9]\n",
      "0.8316341463414634\n",
      "Iteration:  390\n",
      "[2 4 4 ... 4 0 9] [2 4 4 ... 9 0 9]\n",
      "0.8338780487804878\n",
      "Iteration:  400\n",
      "[2 4 4 ... 4 0 9] [2 4 4 ... 9 0 9]\n",
      "0.8356097560975609\n",
      "Iteration:  410\n",
      "[2 4 4 ... 9 0 9] [2 4 4 ... 9 0 9]\n",
      "0.8378536585365853\n",
      "Iteration:  420\n",
      "[2 4 4 ... 9 0 9] [2 4 4 ... 9 0 9]\n",
      "0.8394146341463414\n",
      "Iteration:  430\n",
      "[2 4 4 ... 9 0 9] [2 4 4 ... 9 0 9]\n",
      "0.8415853658536585\n",
      "Iteration:  440\n",
      "[2 4 4 ... 9 0 9] [2 4 4 ... 9 0 9]\n",
      "0.8432439024390244\n",
      "Iteration:  450\n",
      "[2 4 4 ... 9 0 9] [2 4 4 ... 9 0 9]\n",
      "0.8445365853658536\n",
      "Iteration:  460\n",
      "[2 4 4 ... 9 0 9] [2 4 4 ... 9 0 9]\n",
      "0.8462195121951219\n",
      "Iteration:  470\n",
      "[2 4 4 ... 9 0 9] [2 4 4 ... 9 0 9]\n",
      "0.8475609756097561\n",
      "Iteration:  480\n",
      "[2 4 4 ... 9 0 9] [2 4 4 ... 9 0 9]\n",
      "0.8488536585365853\n",
      "Iteration:  490\n",
      "[2 4 4 ... 9 0 9] [2 4 4 ... 9 0 9]\n",
      "0.8500487804878049\n"
     ]
    }
   ],
   "source": [
    "\n",
    "def gradient_descent(X, Y, alpha, iterations):\n",
    "    W1, b1, W2, b2 = init_params()\n",
    "    for i in range(iterations):\n",
    "        Z1, A1, Z2, A2 = forward_prop(W1, b1, W2, b2, X)\n",
    "        dW1, db1, dW2, db2 = backward_prop(Z1, A1, Z2, A2, W1, W2, X, Y)\n",
    "        W1, b1, W2, b2 = update_params(W1, b1, W2, b2, dW1, db1, dW2, db2, alpha)\n",
    "        if i % 10 == 0:\n",
    "            print(\"Iteration: \", i)\n",
    "            predictions = get_predictions(A2)\n",
    "            print(get_accuracy(predictions, Y))\n",
    "    return W1, b1, W2, b2\n",
    "\n",
    "W1, b1, W2, b2 = gradient_descent(X_train, Y_train, 0.10, 500)"
   ]
  },
  {
   "cell_type": "code",
   "execution_count": 15,
   "metadata": {},
   "outputs": [],
   "source": [
    "def make_predictions(X, W1, b1, W2, b2):\n",
    "    _, _, _, A2 = forward_prop(W1, b1, W2, b2, X)\n",
    "    predictions = get_predictions(A2)\n",
    "    return predictions"
   ]
  },
  {
   "cell_type": "code",
   "execution_count": 16,
   "metadata": {},
   "outputs": [],
   "source": [
    "\n",
    "def test_prediction(index, W1, b1, W2, b2):\n",
    "    current_image = X_train[:, index, None]\n",
    "    prediction = make_predictions(X_train[:, index, None], W1, b1, W2, b2)\n",
    "    label = Y_train[index]\n",
    "    print(\"Prediction: \", prediction)\n",
    "    print(\"Label: \", label)\n",
    "    \n",
    "    current_image = current_image.reshape((28, 28)) * 255\n",
    "    plt.gray()\n",
    "    plt.imshow(current_image, interpolation='nearest')\n",
    "    plt.show()"
   ]
  },
  {
   "cell_type": "code",
   "execution_count": 17,
   "metadata": {},
   "outputs": [
    {
     "name": "stdout",
     "output_type": "stream",
     "text": [
      "Prediction:  [4]\n",
      "Label:  4\n"
     ]
    },
    {
     "data": {
      "image/png": "[encoded data removed]",
      "text/plain": [
       "<Figure size 640x480 with 1 Axes>"
      ]
     },
     "metadata": {},
     "output_type": "display_data"
    }
   ],
   "source": [
    "test_prediction(1, W1, b1, W2, b2)"
   ]
  }
 ],
 "metadata": {
  "kernelspec": {
   "display_name": "Python 3",
   "language": "python",
   "name": "python3"
  },
  "language_info": {
   "codemirror_mode": {
    "name": "ipython",
    "version": 3
   },
   "file_extension": ".py",
   "mimetype": "text/x-python",
   "name": "python",
   "nbconvert_exporter": "python",
   "pygments_lexer": "ipython3",
   "version": "3.12.1"
  }
 },
 "nbformat": 4,
 "nbformat_minor": 2
}
